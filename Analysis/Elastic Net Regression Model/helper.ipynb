{
 "cells": [
  {
   "cell_type": "markdown",
   "id": "6c03f097",
   "metadata": {},
   "source": [
    "# This script is to help procesing R script outputs from the console"
   ]
  },
  {
   "cell_type": "markdown",
   "id": "b0462aee",
   "metadata": {},
   "source": [
    "## Use this script to filter out models (in different tuneLengths) yield valid values and past back to modelCompare.R"
   ]
  },
  {
   "cell_type": "code",
   "execution_count": 1,
   "id": "02417048",
   "metadata": {},
   "outputs": [
    {
     "name": "stdout",
     "output_type": "stream",
     "text": [
      "[2, 5, 6, 7, 8, 9, 10, 11, 12, 13, 14, 15, 16, 17, 18, 19, 20, 21, 22, 23, 24, 25, 26, 27, 28, 29, 30, 31, 32, 33, 34, 35, 36, 37, 38, 39, 40, 41, 42, 43, 44, 45, 46, 47, 48, 49, 50, 51, 52, 53, 54, 55, 56, 57, 58, 59, 60, 61, 62, 63, 64, 65, 66, 67, 68, 69, 70, 71, 72, 73, 74, 75, 76, 77, 78, 79, 80, 81, 82, 83, 84, 85, 86, 87, 88, 89, 90, 91, 92, 93, 94, 95, 96, 97, 98, 99, 100, 101, 102, 103, 104, 105, 106, 107, 108, 109, 110, 111, 112, 113, 114, 115, 116, 117, 118, 119, 120, 121, 122, 123, 124, 125, 126, 127, 128, 129, 130, 131, 132, 133, 134, 135, 136, 137, 138, 139, 140, 141, 142, 143, 144, 145, 146, 147, 148, 149, 150, 151, 152, 153, 154, 155, 156, 157, 158, 159, 160, 161, 162, 163, 164, 165, 166, 167, 168, 169, 170, 171, 172, 173, 174]\n",
      "171\n",
      "resamples(list('2' = model[[2]], '5' = model[[5]], '6' = model[[6]], '7' = model[[7]], '8' = model[[8]], '9' = model[[9]], '10' = model[[10]], '11' = model[[11]], '12' = model[[12]], '13' = model[[13]], '14' = model[[14]], '15' = model[[15]], '16' = model[[16]], '17' = model[[17]], '18' = model[[18]], '19' = model[[19]], '20' = model[[20]], '21' = model[[21]], '22' = model[[22]], '23' = model[[23]], '24' = model[[24]], '25' = model[[25]], '26' = model[[26]], '27' = model[[27]], '28' = model[[28]], '29' = model[[29]], '30' = model[[30]], '31' = model[[31]], '32' = model[[32]], '33' = model[[33]], '34' = model[[34]], '35' = model[[35]], '36' = model[[36]], '37' = model[[37]], '38' = model[[38]], '39' = model[[39]], '40' = model[[40]], '41' = model[[41]], '42' = model[[42]], '43' = model[[43]], '44' = model[[44]], '45' = model[[45]], '46' = model[[46]], '47' = model[[47]], '48' = model[[48]], '49' = model[[49]], '50' = model[[50]], '51' = model[[51]], '52' = model[[52]], '53' = model[[53]], '54' = model[[54]], '55' = model[[55]], '56' = model[[56]], '57' = model[[57]], '58' = model[[58]], '59' = model[[59]], '60' = model[[60]], '61' = model[[61]], '62' = model[[62]], '63' = model[[63]], '64' = model[[64]], '65' = model[[65]], '66' = model[[66]], '67' = model[[67]], '68' = model[[68]], '69' = model[[69]], '70' = model[[70]], '71' = model[[71]], '72' = model[[72]], '73' = model[[73]], '74' = model[[74]], '75' = model[[75]], '76' = model[[76]], '77' = model[[77]], '78' = model[[78]], '79' = model[[79]], '80' = model[[80]], '81' = model[[81]], '82' = model[[82]], '83' = model[[83]], '84' = model[[84]], '85' = model[[85]], '86' = model[[86]], '87' = model[[87]], '88' = model[[88]], '89' = model[[89]], '90' = model[[90]], '91' = model[[91]], '92' = model[[92]], '93' = model[[93]], '94' = model[[94]], '95' = model[[95]], '96' = model[[96]], '97' = model[[97]], '98' = model[[98]], '99' = model[[99]], '100' = model[[100]], '101' = model[[101]], '102' = model[[102]], '103' = model[[103]], '104' = model[[104]], '105' = model[[105]], '106' = model[[106]], '107' = model[[107]], '108' = model[[108]], '109' = model[[109]], '110' = model[[110]], '111' = model[[111]], '112' = model[[112]], '113' = model[[113]], '114' = model[[114]], '115' = model[[115]], '116' = model[[116]], '117' = model[[117]], '118' = model[[118]], '119' = model[[119]], '120' = model[[120]], '121' = model[[121]], '122' = model[[122]], '123' = model[[123]], '124' = model[[124]], '125' = model[[125]], '126' = model[[126]], '127' = model[[127]], '128' = model[[128]], '129' = model[[129]], '130' = model[[130]], '131' = model[[131]], '132' = model[[132]], '133' = model[[133]], '134' = model[[134]], '135' = model[[135]], '136' = model[[136]], '137' = model[[137]], '138' = model[[138]], '139' = model[[139]], '140' = model[[140]], '141' = model[[141]], '142' = model[[142]], '143' = model[[143]], '144' = model[[144]], '145' = model[[145]], '146' = model[[146]], '147' = model[[147]], '148' = model[[148]], '149' = model[[149]], '150' = model[[150]], '151' = model[[151]], '152' = model[[152]], '153' = model[[153]], '154' = model[[154]], '155' = model[[155]], '156' = model[[156]], '157' = model[[157]], '158' = model[[158]], '159' = model[[159]], '160' = model[[160]], '161' = model[[161]], '162' = model[[162]], '163' = model[[163]], '164' = model[[164]], '165' = model[[165]], '166' = model[[166]], '167' = model[[167]], '168' = model[[168]], '169' = model[[169]], '170' = model[[170]], '171' = model[[171]], '172' = model[[172]], '173' = model[[173]], '174' = model[[174]]))\n"
     ]
    }
   ],
   "source": [
    "import time\n",
    "import pandas as pd\n",
    "\n",
    "\n",
    "with open(\"xxxxxx/modelLogT.txt\", \"r\") as f:\n",
    "with open(\"xxxxxx/modelLogP.txt\", \"r\") as f:\n",
    "with open(\"xxxxxx/modelLogS.txt\", \"r\") as f:\n",
    "    s= pd.DataFrame({line.split(' ')[1] if 'is applicable' in line else None for line in f})\n",
    "    s= pd.to_numeric(s.dropna(axis=0, how='any').drop(index=0)[0]).sort_values().tolist()\n",
    "    print(s)\n",
    "    print(len(s))\n",
    "\n",
    "rst = 'resamples(list('\n",
    "for i in s: \n",
    "    rst += \"'\"+str(i)+\"'\"+ ' = model[['+str(i)+']], ' \n",
    "\n",
    "rst = rst[:-2] + '))'\n",
    "print(rst)"
   ]
  }
 ],
 "metadata": {
  "kernelspec": {
   "display_name": "Python 3",
   "language": "python",
   "name": "python3"
  },
  "language_info": {
   "codemirror_mode": {
    "name": "ipython",
    "version": 3
   },
   "file_extension": ".py",
   "mimetype": "text/x-python",
   "name": "python",
   "nbconvert_exporter": "python",
   "pygments_lexer": "ipython3",
   "version": "3.8.11"
  }
 },
 "nbformat": 4,
 "nbformat_minor": 5
}
